{
 "cells": [
  {
   "attachments": {},
   "cell_type": "markdown",
   "id": "601511cb-7273-4d94-9908-684552cb6330",
   "metadata": {
    "tags": []
   },
   "source": [
    "# This is a Jupyter Notebook Running in Jupyter Lab\n",
    "\n",
    "- It contains Markdown Cells, such as this one, used for annotations\n",
    "- It contains Code Cells in which you can run Python code\n",
    "\n",
    "**Run a selected notebook cell of either type using the triangular `play` button above or by pressing `Shift-Enter`**\n",
    "\n",
    "<img src=\"https://opensarlab-docs.asf.alaska.edu/opensarlab-notebook-assets/workshops/nisar_early_adopters/play_button.png\"  width=\"600\">\n",
    "\n",
    "---"
   ]
  },
  {
   "cell_type": "code",
   "execution_count": 5,
   "id": "0726be3e-932b-44a9-8e42-2ae6199eb8d6",
   "metadata": {
    "tags": []
   },
   "outputs": [
    {
     "name": "stdout",
     "output_type": "stream",
     "text": [
      "This is a code cell\n"
     ]
    }
   ],
   "source": [
    "print(\"This is a code cell\")"
   ]
  },
  {
   "cell_type": "markdown",
   "id": "381326f4-de7c-44f4-bae6-a0b80635a608",
   "metadata": {},
   "source": [
    "---\n",
    "\n",
    "## Double-click this Markdown cell to view its underlying code\n",
    "\n",
    "### You can code in Markdown:\n",
    "- This is\n",
    "- a\n",
    "- **Markdown unordered list**\n",
    "\n",
    "1. This is\n",
    "1. a \n",
    "1. **Markdown ordered list**\n",
    "\n",
    "\n",
    "*Markdown link:*\n",
    "[Markdown Cheatsheet](https://jupyterbook.org/en/stable/reference/cheatsheet.html)\n",
    "\n",
    "### You can code in HTML:\n",
    "\n",
    "<ul>\n",
    "  <li>This is</li>\n",
    "  <li>an</li>\n",
    "  <li><b>HTML unordered list</b></li>\n",
    "</ul>\n",
    "\n",
    "<i>HTML link:</i>\n",
    "<a href=\"https://www.w3schools.com/html/\">HTML Tutorials</a>\n",
    "\n",
    "\n",
    "\n",
    "### You can code in Latex\n",
    "\n",
    "$\n",
    "\\begin{matrix}\n",
    "1 & 2 & 3\\\\\n",
    "a & b & c\n",
    "\\end{matrix}\n",
    "$\n",
    "\n",
    "$\n",
    "\\begin{align}\n",
    "\\mathbf{a} \\cdot \\mathbf{b} = \\sum_{i=1}^n a_i b_i.\n",
    "\\end{align}\n",
    "$\n",
    "\n",
    "[Latex in Jupyter Notebooks Cheatsheet](http://chebe163.caltech.edu/2018w/handouts/intro_to_latex.html)\n",
    "\n",
    "\n",
    "---\n"
   ]
  },
  {
   "cell_type": "markdown",
   "id": "66fa7d82-5ada-4477-9454-02cc32b780fc",
   "metadata": {},
   "source": [
    "# The cell below is a code cell\n",
    "\n",
    "The code in the cell is editable and may be rerun any number of times\n",
    "\n",
    "**Try to:**\n",
    "1. run it\n",
    "1. edit it\n",
    "1. rerun it"
   ]
  },
  {
   "cell_type": "code",
   "execution_count": 3,
   "id": "ab13dcac-5da6-40b2-9855-76ff2382a6fd",
   "metadata": {
    "tags": []
   },
   "outputs": [
    {
     "name": "stdout",
     "output_type": "stream",
     "text": [
      "0: apple\n",
      "1: orange\n",
      "2: mango\n",
      "3: pear\n",
      "4: banana\n"
     ]
    }
   ],
   "source": [
    "def foo(bar):\n",
    "    for i, b in enumerate(bar):\n",
    "        print(f'{i}: {b}')\n",
    "              \n",
    "fruit = ['apple', 'orange', 'mango', 'pear', 'banana']\n",
    "              \n",
    "foo(fruit)"
   ]
  },
  {
   "cell_type": "markdown",
   "id": "e8cd93aa-d3c2-4395-82aa-c11ca0053a73",
   "metadata": {},
   "source": [
    "---\n",
    "**Run a new code cell**"
   ]
  },
  {
   "cell_type": "code",
   "execution_count": 4,
   "id": "936e8c33-3c30-4e36-9018-176b39e28d74",
   "metadata": {
    "tags": []
   },
   "outputs": [
    {
     "name": "stdout",
     "output_type": "stream",
     "text": [
      "10000\n"
     ]
    }
   ],
   "source": [
    "i = 100\n",
    "print(i**2)"
   ]
  },
  {
   "cell_type": "markdown",
   "id": "c84d2f8c-609c-4edd-a441-1d7aab56331b",
   "metadata": {},
   "source": [
    "---\n",
    "### Print on Return\n",
    "\n",
    "One great trick in Jupyter Notebooks is the \"print on return\" feature. In the code cell below,\n",
    "you will notice that the last line is only a variable. Because putting the variable name by itself\n",
    "returns the object, the Notebook will automatically print the returned object."
   ]
  },
  {
   "cell_type": "code",
   "execution_count": 7,
   "id": "1d416e2e-28f7-4bb9-a639-91fb842ea777",
   "metadata": {},
   "outputs": [
    {
     "data": {
      "text/plain": [
       "['squash', 'broccoli', 'carrots']"
      ]
     },
     "execution_count": 7,
     "metadata": {},
     "output_type": "execute_result"
    }
   ],
   "source": [
    "vegetables: \"list[str]\" = [\"squash\", \"broccoli\", \"carrots\"]\n",
    "\n",
    "vegetables"
   ]
  },
  {
   "cell_type": "markdown",
   "id": "216c3b8b-507a-40f3-8aac-827f8a4563b1",
   "metadata": {},
   "source": [
    "---\n",
    "### Continuously Defined Variables\n",
    "\n",
    "Variables defined at the top-most level are defined over all cells. This also means that variables\n",
    "can be changed between cells. One common pattern is for variables to be initialized, checked,\n",
    "changed, and checked again."
   ]
  },
  {
   "cell_type": "code",
   "execution_count": 8,
   "id": "07393026-972f-47ce-bdca-ad0c3364ac96",
   "metadata": {},
   "outputs": [
    {
     "data": {
      "text/plain": [
       "['squash', 'broccoli', 'carrots', 'sprouts']"
      ]
     },
     "execution_count": 8,
     "metadata": {},
     "output_type": "execute_result"
    }
   ],
   "source": [
    "vegetables.append(\"sprouts\")\n",
    "\n",
    "vegetables"
   ]
  },
  {
   "cell_type": "code",
   "execution_count": 9,
   "id": "2b5e0c34-67d1-4231-899e-f88586671a37",
   "metadata": {},
   "outputs": [
    {
     "data": {
      "text/plain": [
       "['squash', 'carrots', 'sprouts']"
      ]
     },
     "execution_count": 9,
     "metadata": {},
     "output_type": "execute_result"
    }
   ],
   "source": [
    "vegetables.pop(1)\n",
    "\n",
    "vegetables"
   ]
  },
  {
   "cell_type": "markdown",
   "id": "cc486d02-e78e-4c40-803b-d89ef759f5b7",
   "metadata": {},
   "source": [
    "---\n",
    "**Now double-back and rerun the first code cell**\n",
    "\n",
    "Note:\n",
    "- the brackets to the left of each code cell record an index indicating the order in which the code cells were run \n",
    "- while running, a code cell's brackets contain `*`\n",
    "- code cells may be run and rerun in any arbitrary order\n",
    "\n",
    "This last point has important implications for developing notebooks. \n",
    "\n",
    "**The ability to run a notebook in arbitrary order can lead to unexpected issues if the code changes directories, or redefines variables or functions.**\n",
    "\n",
    "Hints for avoiding these pitfalls can be found in the [Jupyter Notebook Development Best Practices](https://opensarlab-docs.asf.alaska.edu/user-guides/class_notebooks_best_practices/)"
   ]
  },
  {
   "attachments": {},
   "cell_type": "markdown",
   "id": "fb0fc70c-415c-4c39-b05f-87d78ae87b72",
   "metadata": {},
   "source": [
    "---\n",
    "### Saving Notebooks\n",
    "\n",
    "Notebooks are auto-saved, however auto-save issues can arise due to poor internet connections and/or very large notebooks. \n",
    "\n",
    "It is best to manually save your notebook to be certain you retain your edits.\n",
    "\n",
    "To save notebook/s, use one of the save options in the 'File' menu or click the floppy disc file save button at the top of the notebook tab:\n",
    "\n",
    "<img src=\"https://opensarlab-docs.asf.alaska.edu/opensarlab-notebook-assets/workshops/nisar_early_adopters/save.png\"  width=\"600\">"
   ]
  },
  {
   "attachments": {},
   "cell_type": "markdown",
   "id": "770e2618-9e69-4b78-b141-154f99d67d2a",
   "metadata": {},
   "source": [
    "---\n",
    "### Downloading Notebooks or Files\n",
    "\n",
    "A notebook or file can be downloaded by selecting `Download` from the `File` menu while it is open and its JupyterLab tab is in focus.\n",
    "\n",
    "You can also select one or many files from the file browser, right-click them, and select `Download`:\n",
    "\n",
    "<img src=\"https://opensarlab-docs.asf.alaska.edu/opensarlab-notebook-assets/workshops/nisar_early_adopters/download.png\"  width=\"600\">\n"
   ]
  },
  {
   "cell_type": "markdown",
   "id": "e5d581e7-5dd9-4617-ba81-2eb78c492ae2",
   "metadata": {},
   "source": [
    "---\n",
    "### Deleting Notebooks and Files\n",
    "\n",
    "Files can be selected and deleted from the file browser in much the same way as they can be downloaded. Select one or many files, right-click, and select `Delete`.\n",
    "\n",
    "**Only empty directories may be deleted in this way**\n",
    "\n",
    "This is an intentional Jupyter design choice that sometimes causes frustration.\n",
    "\n",
    "There are 2 ways to deal with this:\n",
    "1. From the file browser, delete any files in a non-empty directory before deleting the directory. \n",
    "    - This can be annoying and time consuming if your directory contains many levels of sub-directories.\n",
    "1. Open a terminal and delete your directory with from the command line\n",
    "    - `rm -rf path/to/your/directory`\n",
    "    - **Warning:** `rm -rf` is a powerful and potentially dangerous command. For example, `rm -rf /` would delete your entire file system\n"
   ]
  },
  {
   "attachments": {},
   "cell_type": "markdown",
   "id": "c4af0433-95a3-417c-ad8e-b54da23851cf",
   "metadata": {},
   "source": [
    "---\n",
    "### Opening a Terminal in Jupyter Lab\n",
    "\n",
    "Jupyter Lab provides access to a terminal for working on the command line.\n",
    "\n",
    "1. Click the blue `+` button at the top left of the Jupyter Lab interface\n",
    "1. Click the `Terminal` button and the lower left of the `Launcher` tab that appears\n",
    "\n",
    "<img src=\"https://opensarlab-docs.asf.alaska.edu/opensarlab-notebook-assets/workshops/nisar_early_adopters/open_terminal.gif\"  width=\"600\">"
   ]
  },
  {
   "cell_type": "markdown",
   "id": "42d6ab05-3d7d-4a6b-8d39-5b61531a3d75",
   "metadata": {},
   "source": [
    "### Working from the Command Line in a Notebook Cell\n",
    "\n",
    "Jupyter provides the `!` magic command to run command line calls from inside a Jupyter Notebook code cell\n",
    "\n",
    "**Run the code cell below to use the Linux `ls` command to list the contents of the current working directory**"
   ]
  },
  {
   "cell_type": "code",
   "execution_count": null,
   "id": "b8dde512-9048-4806-a77b-4f3d9f4bb8b4",
   "metadata": {
    "tags": []
   },
   "outputs": [],
   "source": [
    "!ls"
   ]
  }
 ],
 "metadata": {
  "kernelspec": {
   "display_name": "base",
   "language": "python",
   "name": "python3"
  },
  "language_info": {
   "codemirror_mode": {
    "name": "ipython",
    "version": 3
   },
   "file_extension": ".py",
   "mimetype": "text/x-python",
   "name": "python",
   "nbconvert_exporter": "python",
   "pygments_lexer": "ipython3",
   "version": "3.10.9"
  }
 },
 "nbformat": 4,
 "nbformat_minor": 5
}
